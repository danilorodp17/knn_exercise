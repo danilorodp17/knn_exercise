{
 "cells": [
  {
   "cell_type": "markdown",
   "metadata": {},
   "source": [
    "# Introdução\n",
    "\n",
    "Este script tem como objetivo analisar os dados de vibração de um motor, comparando-os com um padrão de referência. A partir dessa comparação, serão identificadas possíveis falhas no funcionamento do motor, como vibrações acima do normal, que podem indicar problemas como eixo torto, folgas nas buchas ou até mesmo falhas mais graves, como o motor fundido.\n",
    "\n",
    "A análise é realizada em várias etapas:\n",
    "1. Leitura e visualização dos dados de padrão.\n",
    "2. Leitura e visualização do dataset completo.\n",
    "3. Divisão do dataset em pacotes de 256 valores.\n",
    "4. Classificação de falhas com base na correlação entre os pacotes e o padrão.\n",
    "5. Interface para o usuário escolher um pacote e visualizar a comparação com o padrão.\n",
    "6. Identificação de novos padrões de falha a partir dos pacotes com correlação abaixo de 0.80."
   ]
  },
  {
   "cell_type": "markdown",
   "metadata": {},
   "source": [
    "# 1. Importação das Bibliotecas Necessárias\n",
    "\n",
    "Primeiro, importamos as bibliotecas necessárias para a análise de dados e visualização."
   ]
  },
  {
   "cell_type": "code",
   "execution_count": 1,
   "metadata": {},
   "outputs": [],
   "source": [
    "import numpy as np\n",
    "import pandas as pd\n",
    "import matplotlib.pyplot as plt"
   ]
  },
  {
   "cell_type": "markdown",
   "metadata": {},
   "source": [
    "# 2. Leitura e Visualização dos Dados de Padrão\n",
    "\n",
    "Nesta etapa, lemos o arquivo de padrão e plotamos os dados para visualizar o comportamento esperado da vibração do motor."
   ]
  },
  {
   "cell_type": "code",
   "execution_count": null,
   "metadata": {},
   "outputs": [],
   "source": [
    "# Leitura do arquivo de padrão\n",
    "caminho_padrao = \"PADRAOVIBRACAOMOTORSTREAM009CC.txt\"\n",
    "dados_padrao = np.loadtxt(caminho_padrao)\n",
    "\n",
    "# Plotagem dos dados de padrão\n",
    "plt.figure(figsize=(10, 6))\n",
    "plt.plot(dados_padrao, label=\"Padrão de Vibração\", color=\"green\")\n",
    "plt.title(\"Dados de Vibração do Motor - Padrão\")\n",
    "plt.xlabel(\"Amostras\")\n",
    "plt.ylabel(\"Amplitude\")\n",
    "plt.legend()\n",
    "plt.grid(True)\n",
    "plt.show()"
   ]
  },
  {
   "cell_type": "markdown",
   "metadata": {},
   "source": [
    "# 3. Leitura e Visualização do Dataset Completo\n",
    "\n",
    "Agora, lê-se o dataset completo e plotamos os dados para visualizar o comportamento geral da vibração do motor."
   ]
  },
  {
   "cell_type": "code",
   "execution_count": null,
   "metadata": {},
   "outputs": [],
   "source": [
    "# Leitura do dataset completo\n",
    "caminho_dataset = \"VIBRACAOMOTORSTREAM009CC.txt\"\n",
    "dados_dataset = np.loadtxt(caminho_dataset)\n",
    "\n",
    "# Plotagem do dataset completo\n",
    "plt.figure(figsize=(10, 6))\n",
    "plt.plot(dados_dataset, label=\"Dataset de Vibração\", color=\"red\")\n",
    "plt.title(\"Dados de Vibração do Motor - Dataset Completo\")\n",
    "plt.xlabel(\"Amostras\")\n",
    "plt.ylabel(\"Amplitude\")\n",
    "plt.legend()\n",
    "plt.grid(True)\n",
    "plt.show()"
   ]
  },
  {
   "cell_type": "markdown",
   "metadata": {},
   "source": [
    "# 4. Divisão do Dataset em Pacotes de 256 valores.\n",
    "\n",
    "O dataset é dividido em pacotes de 256 valores para facilitar a análise e a comparação com o padrão."
   ]
  },
  {
   "cell_type": "code",
   "execution_count": null,
   "metadata": {},
   "outputs": [],
   "source": [
    "# Divisão do dataset em pacotes de 256 valores\n",
    "tamanho_pacote = 256\n",
    "num_pacotes = len(dados_dataset) // tamanho_pacote\n",
    "pacotes = [dados_dataset[i * tamanho_pacote:(i + 1) * tamanho_pacote] for i in range(num_pacotes)]\n",
    "\n",
    "print(f\"\\nO dataset foi dividido em {num_pacotes} pacotes de {tamanho_pacote} valores cada.\")\n"
   ]
  },
  {
   "cell_type": "markdown",
   "metadata": {},
   "source": [
    "# 5. Classificação de Falhas com base na Correlação\n",
    "\n",
    "Aqui, definimos uma função para classificar as falhas com base na correlação entre os pacotes e o padrão. Em seguida, calculamos as correlações e classificamos as falhas para cada pacote."
   ]
  },
  {
   "cell_type": "code",
   "execution_count": null,
   "metadata": {},
   "outputs": [],
   "source": [
    "# Função para classificar falhas com base na correlação\n",
    "def classificar_falha(correlacao):\n",
    "    if correlacao > 0.80:\n",
    "        return \"Funcionamento Normal. Motor dentro do padrão de vibração. \\nNenhuma falha encontrada.\"\n",
    "    elif 0.50 <= correlacao <= 0.80:\n",
    "        return \"Vibração pouco acima do normal. Recomenda-se uma avaliação preventiva. \\nPossível eixo torto ou folga nas buchas.\"\n",
    "    else:\n",
    "        return \"Vibração muito acima do normal. Recomenda-se uma manutenção imediata. \\nPossível falha no cárter ou motor fundido.\"\n",
    "\n",
    "# Lista para armazenar pacotes com falha e seus respectivos rótulos\n",
    "dados_falha = []\n",
    "\n",
    "# Calculando correlações e atribuindo falhas\n",
    "for i, pacote in enumerate(pacotes):\n",
    "    correlacao = np.corrcoef(dados_padrao[:tamanho_pacote], pacote)[0, 1]\n",
    "    \n",
    "    # Classificando a falha com base na correlação\n",
    "    falha = classificar_falha(correlacao)\n",
    "    \n",
    "    # Armazenando o pacote e a falha no conjunto de dados\n",
    "    dados_falha.append({\n",
    "        \"pacote\": pacote, \n",
    "        \"correlacao\": correlacao, \n",
    "        \"falha\": falha\n",
    "    })\n",
    "    \n",
    "    # Exibindo a classificação de falha\n",
    "    print(f\"\\n\\nPACOTE NÚMERO {i+1}: \\nCorrelação = {correlacao:.2f} \\nFalha: {falha}\")"
   ]
  },
  {
   "cell_type": "markdown",
   "metadata": {},
   "source": [
    "# 6. Interface para o Usuário escolher um pacote\n",
    "\n",
    "Aqui, o usuário pode escolher um pacote específico para visualizar a comparação com o padrão."
   ]
  },
  {
   "cell_type": "code",
   "execution_count": null,
   "metadata": {},
   "outputs": [],
   "source": [
    "# Interface para o usuário escolher um pacote\n",
    "escolha = int(input(\"Digite o número do pacote que deseja plotar (1 a {}: \".format(num_pacotes)))\n",
    "\n",
    "# Verificação da escolha do usuário\n",
    "if 1 <= escolha <= num_pacotes:\n",
    "    pacote_escolhido = pacotes[escolha - 1]\n",
    "\n",
    "# Plotagem do padrão e do pacote escolhido no mesmo gráfico\n",
    "plt.figure(figsize=(10, 6))\n",
    "plt.plot(dados_padrao[:tamanho_pacote], label=\"Padrão de Vibração\", color=\"green\")\n",
    "plt.plot(pacote_escolhido, label=f\"Pacote {escolha}\", color=\"red\", linestyle=\"dashed\")\n",
    "plt.title(f\"Comparação: Padrão x Pacote {escolha}\")\n",
    "plt.xlabel(\"Amostras\")\n",
    "plt.ylabel(\"Amplitude\")\n",
    "plt.legend()\n",
    "plt.grid(True)\n",
    "plt.show()\n",
    "\n",
    "# Aplicação de correlação com o Padrão\n",
    "correlacao = np.corrcoef(dados_padrao[:tamanho_pacote], pacote_escolhido)[0, 1]\n",
    "print(f\"\\n\\nPACOTE NÚMERO {escolha}: \\nCorrelação com o padrão: = {correlacao:.2f} \\nFalha: {falha}\")"
   ]
  },
  {
   "cell_type": "markdown",
   "metadata": {},
   "source": [
    "# 7. Identificação de Novos Padrões de Falha\n",
    "\n",
    "Nesta etapa, identificamos pacotes com correlação abaixo de 0.8 e criamos um novo padrão de falha a partir da média desses pacotes"
   ]
  },
  {
   "cell_type": "code",
   "execution_count": null,
   "metadata": {},
   "outputs": [],
   "source": [
    "# Lista para armazenar pacotes com correlação < 0.8\n",
    "novos_padroes_falha = []\n",
    "correlacoes = []\n",
    "pacotes_falha = []\n",
    "\n",
    "# Analisando pacotes com correlação < 0.8\n",
    "for i, pacote in enumerate(pacotes):\n",
    "    correlacao = np.corrcoef(dados_padrao[:tamanho_pacote], pacote)[0, 1]\n",
    "\n",
    "    if correlacao < 0.8:\n",
    "        novos_padroes_falha.append(pacote.tolist()) \n",
    "        correlacoes.append(correlacao)\n",
    "        pacotes_falha.append(i + 1)\n",
    "\n",
    "# Somente processar se houver pacotes com falha\n",
    "if novos_padroes_falha:\n",
    "    novos_padroes_falha = np.array(novos_padroes_falha) \n",
    "    limite_diferenca = 0.05\n",
    "\n",
    "    grupos = []\n",
    "    grupo_atual = [novos_padroes_falha[0]]\n",
    "    referencia_correlacao = correlacoes[0]\n",
    "\n",
    "    for j in range(1, len(novos_padroes_falha)):\n",
    "        if abs(correlacoes[j] - referencia_correlacao) <= limite_diferenca:\n",
    "            grupos.append(np.array(grupo_atual))\n",
    "            grupo_atual = [novos_padroes_falha[j]]\n",
    "            referencia_correlacao = correlacoes[j]\n",
    "\n",
    "    if grupo_atual:\n",
    "        grupos.append(np.array(grupo_atual))\n",
    "\n",
    "    novos_padroes = [np.mean(grupo, axis=0) for grupo in grupos]\n",
    "    novo_padrao_falha = np.mean(novos_padroes, axis=0)\n",
    "\n",
    "    print(f\"\\nNovo padrão de falha criado com a média dos pacotes com correlação menor que 0.8, sendo eles: \\n{', '.join(map(str, pacotes_falha))}.\")\n",
    "\n",
    "    # Plotando o novo padrão de falha\n",
    "    plt.figure(figsize=(10, 6))\n",
    "    plt.plot(novo_padrao_falha, label=\"Novo Padrão de Falha\", color=\"purple\")\n",
    "    plt.title(\"Novo Padrão de Falha\")\n",
    "    plt.xlabel(\"Amostras\")\n",
    "    plt.ylabel(\"Amplitude\")\n",
    "    plt.legend()\n",
    "    plt.grid(True)\n",
    "    plt.show()\n",
    "\n",
    "    # Comparando com o padrão original\n",
    "    plt.figure(figsize=(10, 6))\n",
    "    plt.plot(dados_padrao[:tamanho_pacote], label=\"Padrão de Vibração\", color=\"green\")\n",
    "    plt.plot(novo_padrao_falha, label=\"Novo Padrão de Falha\", color=\"purple\", linestyle=\"dashed\")\n",
    "    plt.title(\"Comparação: Padrão Original vs Novo Padrão de Falha\")\n",
    "    plt.xlabel(\"Amostras\")\n",
    "    plt.ylabel(\"Amplitude\")\n",
    "    plt.legend()\n",
    "    plt.grid(True)\n",
    "    plt.show()\n",
    "\n",
    "    # Armazenando o novo padrão de falha (opcional: salvar em um arquivo)\n",
    "    np.savetxt(\"novo_padrao_falha.txt\", novo_padrao_falha, fmt=\"%.6f\")\n",
    "    print(\"\\nNovo padrão de falha salvo no arquivo 'novo_padrao_falha.txt'.\")\n",
    "else:\n",
    "    print(\"\\nNenhum novo padrão de falha foi criado.\")"
   ]
  }
 ],
 "metadata": {
  "kernelspec": {
   "display_name": "Python 3",
   "language": "python",
   "name": "python3"
  },
  "language_info": {
   "codemirror_mode": {
    "name": "ipython",
    "version": 3
   },
   "file_extension": ".py",
   "mimetype": "text/x-python",
   "name": "python",
   "nbconvert_exporter": "python",
   "pygments_lexer": "ipython3",
   "version": "3.13.2"
  }
 },
 "nbformat": 4,
 "nbformat_minor": 2
}
